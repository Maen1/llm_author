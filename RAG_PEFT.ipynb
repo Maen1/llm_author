{
 "cells": [
  {
   "cell_type": "code",
   "execution_count": 24,
   "id": "9c8f5775-049a-40be-991c-bcb18921d6e1",
   "metadata": {},
   "outputs": [],
   "source": [
    "import warnings\n",
    "warnings.filterwarnings('ignore')"
   ]
  },
  {
   "cell_type": "code",
   "execution_count": 25,
   "id": "597a6f4f-b5fa-4eb1-87e2-2ea5161bf089",
   "metadata": {},
   "outputs": [
    {
     "name": "stderr",
     "output_type": "stream",
     "text": [
      "Unused kwargs: ['_load_in_4bit', '_load_in_8bit', 'quant_method']. These kwargs are not used in <class 'transformers.utils.quantization_config.BitsAndBytesConfig'>.\n",
      "Loading checkpoint shards: 100%|████████████████████████████████████████████████████| 2/2 [00:03<00:00,  1.70s/it]\n",
      "Device set to use cuda:0\n"
     ]
    }
   ],
   "source": [
    "import gradio as gr\n",
    "from transformers import pipeline, AutoTokenizer\n",
    "\n",
    "# Load model and tokenizer\n",
    "model_path = \"models/llama3-8b-merged-4bit\"\n",
    "tokenizer = AutoTokenizer.from_pretrained(model_path)\n",
    "\n",
    "llm = pipeline(\n",
    "    \"text-generation\",\n",
    "    model=model_path,\n",
    "    tokenizer=model_path,\n",
    "    max_new_tokens=512,\n",
    "    do_sample=True,\n",
    "    temperature=0.7,\n",
    "    top_p=0.95,\n",
    "    repetition_penalty=1.1,\n",
    "    torch_dtype=\"auto\",\n",
    "    device_map=\"auto\",\n",
    "    pad_token_id=tokenizer.eos_token_id\n",
    ")\n",
    "\n",
    "# Initial context\n",
    "conversation_context = (\n",
    "    \"You are Michael Fried, a renowned art critic and historian. \"\n",
    "    \"You respond in your own intellectual and formal voice, referencing your essays and ideas.\"\n",
    ")"
   ]
  },
  {
   "cell_type": "code",
   "execution_count": 26,
   "id": "b1229aaa-4ecc-4c92-a307-27dbdcd6aa6d",
   "metadata": {},
   "outputs": [
    {
     "data": {
      "text/plain": [
       "[{'generated_text': 'what is art, that would be the “universally valid criterion” for separating it from non-art. For this reason Schopenhauer’s theory of value has its own kind of ontological primacy and ought to count more than any empirical criterion in our aesthetic judgments. It seems to me that Fried is not just being playful when he claims that “the Kantian perspective on the question of how we judge works of art is ‘disinterested’.” What Fried means by the aestheticism of modernism (and which we are to understand as a form of anti-aestheticism) is that what matters aesthetically is how a work instantiates a certain normative or axiological category (in this case, the category of anti-theatricality). We can know whether something is an aesthetic object through its instantiation of a particular kind, rather than by trying to understand the subjective reactions it produces in us. The aesthetic quality of a work is determined by its kind. That is why Fried sees the work of art as a self-contained unit, “not because the work is there to be beheld, but precisely because it is not there to be occupied.” 13 Schumpeter, Joseph Schumpeter: A Biography, trans. Hebert T. Louis (Chicago, IL, and London, 1951), p. 140. 14 See Martin Kalverkamp and Frances P. Adler, “Joseph Schumpeter and Friedrich Nietzsche,” Schumpeter and his message today, ed. Rima Diby, Paul Albrecht and Muriel Malitza (New York, NY, and London, 2008), pp. 29–43; see also their “Schumpeter and Nietzsche,” American Economic Review (2006), LXXVI/2, pp. 223–28. 15 See, for example, David Lieeser, Nietzsche’s Transcendence of Enlightenment, Studies in Nietzsche’s Philosophy, vol. i (Albany, NY, 2013); John Richardson’s introduction to Friedrich Nietzsche, On the Genealogy of Morality: Writings from the First Essay in Ethics, trans. Kate Steentjes (Cambridge, 1993), pp. vii–xvii; Thomas W. Kaiser and Elizabeth G. Castelli, eds, Re-Reading Schiller: A German Romantic Idea and Its Reception, Studies within the History of Ideas (New York, 2010), esp. chs. 12 and 14. 16'}]"
      ]
     },
     "execution_count": 26,
     "metadata": {},
     "output_type": "execute_result"
    }
   ],
   "source": [
    "llm(\"what is art\")"
   ]
  },
  {
   "cell_type": "code",
   "execution_count": 27,
   "id": "0616934e-69e9-4fd6-bd19-1c82dea9c7b2",
   "metadata": {},
   "outputs": [
    {
     "name": "stderr",
     "output_type": "stream",
     "text": [
      "Ignoring wrong pointing object 55 0 (offset 0)\n",
      "Ignoring wrong pointing object 35 0 (offset 0)\n",
      "Ignoring wrong pointing object 45 0 (offset 0)\n",
      "Ignoring wrong pointing object 40 0 (offset 0)\n",
      "Ignoring wrong pointing object 40 0 (offset 0)\n",
      "Ignoring wrong pointing object 113 0 (offset 0)\n",
      "Ignoring wrong pointing object 79 0 (offset 0)\n",
      "Ignoring wrong pointing object 29 0 (offset 0)\n",
      "incorrect startxref pointer(1)\n",
      "parsing for Object Streams\n",
      "Ignoring wrong pointing object 23 0 (offset 0)\n",
      "Ignoring wrong pointing object 85 0 (offset 0)\n",
      "Ignoring wrong pointing object 36 0 (offset 0)\n",
      "Ignoring wrong pointing object 40 0 (offset 0)\n",
      "Ignoring wrong pointing object 46 0 (offset 0)\n",
      "Ignoring wrong pointing object 28 0 (offset 0)\n",
      "Ignoring wrong pointing object 29 0 (offset 0)\n",
      "Ignoring wrong pointing object 62 0 (offset 0)\n",
      "Ignoring wrong pointing object 23 0 (offset 0)\n",
      "Ignoring wrong pointing object 39 0 (offset 0)\n",
      "Ignoring wrong pointing object 92 0 (offset 0)\n",
      "Ignoring wrong pointing object 36 0 (offset 0)\n",
      "Ignoring wrong pointing object 30 0 (offset 0)\n",
      "Ignoring wrong pointing object 34 0 (offset 0)\n",
      "Ignoring wrong pointing object 40 0 (offset 0)\n",
      "Ignoring wrong pointing object 31 0 (offset 0)\n",
      "Ignoring wrong pointing object 44 0 (offset 0)\n",
      "Ignoring wrong pointing object 59 0 (offset 0)\n",
      "Ignoring wrong pointing object 45 0 (offset 0)\n",
      "Ignoring wrong pointing object 57 0 (offset 0)\n",
      "Ignoring wrong pointing object 538 0 (offset 0)\n",
      "Ignoring wrong pointing object 138 0 (offset 0)\n",
      "Ignoring wrong pointing object 40 0 (offset 0)\n",
      "Ignoring wrong pointing object 54 0 (offset 0)\n",
      "Ignoring wrong pointing object 23 0 (offset 0)\n",
      "Ignoring wrong pointing object 37 0 (offset 0)\n",
      "Ignoring wrong pointing object 36 0 (offset 0)\n",
      "Ignoring wrong pointing object 120 0 (offset 0)\n"
     ]
    }
   ],
   "source": [
    "import os\n",
    "from langchain.document_loaders import PyPDFLoader\n",
    "from langchain.text_splitter import RecursiveCharacterTextSplitter\n",
    "\n",
    "folder_path = \"./data/fried/\"\n",
    "all_docs = []\n",
    "\n",
    "for file in os.listdir(folder_path):\n",
    "    if file.endswith(\".pdf\"):\n",
    "        pdf_path = os.path.join(folder_path, file)\n",
    "        loader = PyPDFLoader(pdf_path)\n",
    "        docs = loader.load()\n",
    "        all_docs.extend(docs)\n",
    "\n",
    "# Split all loaded docs\n",
    "splitter = RecursiveCharacterTextSplitter(chunk_size=500, chunk_overlap=100)\n",
    "split_docs = splitter.split_documents(all_docs)"
   ]
  },
  {
   "cell_type": "code",
   "execution_count": 28,
   "id": "a3cca3bc-a1ad-467e-a314-d482c506ab19",
   "metadata": {},
   "outputs": [
    {
     "data": {
      "text/plain": [
       "33567"
      ]
     },
     "execution_count": 28,
     "metadata": {},
     "output_type": "execute_result"
    }
   ],
   "source": [
    "len(split_docs)"
   ]
  },
  {
   "cell_type": "code",
   "execution_count": 29,
   "id": "a8db6399-8bd6-4da4-982a-9ae54e434115",
   "metadata": {},
   "outputs": [],
   "source": [
    "from langchain_huggingface import HuggingFaceEmbeddings\n",
    "embedding = HuggingFaceEmbeddings(model_name=\"sentence-transformers/all-MiniLM-L6-v2\")"
   ]
  },
  {
   "cell_type": "code",
   "execution_count": 30,
   "id": "e5dfb41c-3845-4701-9ced-b7e22eda9a7a",
   "metadata": {},
   "outputs": [],
   "source": [
    "from langchain.vectorstores import FAISS\n",
    "\n",
    "db = FAISS.from_documents(split_docs, embedding)\n",
    "db.save_local(\"faiss_index/\")\n",
    "#retriever = db.as_retriever()\n",
    "retriever = FAISS.load_local(\"faiss_index/\", embedding, allow_dangerous_deserialization=True).as_retriever() "
   ]
  },
  {
   "cell_type": "code",
   "execution_count": 31,
   "id": "5d3af6af-2d97-4033-a07d-9caebc624cf2",
   "metadata": {},
   "outputs": [],
   "source": [
    "from langchain.chains import RetrievalQA\n",
    "from langchain_huggingface import HuggingFacePipeline\n",
    "from langchain.prompts import PromptTemplate\n",
    "\n",
    "llm_pipeline = HuggingFacePipeline(pipeline=llm)\n",
    "\n",
    "\n",
    "custom_prompt = PromptTemplate.from_template(\n",
    "    \"\"\"\n",
    "    You are Michael Fried, a renowned art critic and historian. \n",
    "    You respond in your own intellectual and formal voice, referencing your essays and ideas.\n",
    "\n",
    "    {context}\n",
    "    \n",
    "    Question: {question}\n",
    "    Helpful Answer:\"\"\"\n",
    ")\n",
    "\n",
    "\n",
    "rag_chain = RetrievalQA.from_chain_type(\n",
    "    llm=llm_pipeline,\n",
    "    retriever=retriever,\n",
    "    return_source_documents=False,\n",
    "    chain_type_kwargs={\"prompt\": custom_prompt}\n",
    ")\n"
   ]
  },
  {
   "cell_type": "code",
   "execution_count": 32,
   "id": "9c784173-8d0d-43b8-a224-5fc7723f4cb9",
   "metadata": {},
   "outputs": [
    {
     "name": "stdout",
     "output_type": "stream",
     "text": [
      "Because he was so interested in realist effects he often cut up his models in order to present them more effectively. For instance, he often sliced off their hands, because if you don’t see them they look just the same as if they had been the best dressed. Other parts of the body were altered in various ways. His technique is also very distinctive... In fact, you might say that a lot of his compositions are about the relationship between form and matter, or rather about how form relates to what we might call its potential energy. The composition is driven by the forms in a way that makes their form become more important than the bodies themselves. You could even argue that his compositional strategies are less about the content of the painting, the subject, than about the presentation of the subject, although some of his subjects, like David playing with Cupid after the Battle of Schipwa\n"
     ]
    }
   ],
   "source": [
    "query = \"What can you tell me about the nature of form in Caravaggio’s painting? \"\n",
    "# query = \"who are you?\"\n",
    "result = rag_chain({\"query\": query})\n",
    "\n",
    "print(result[\"result\"].split(\"Helpful Answer:\")[-1].strip())\n",
    "# print(result[\"source_documents\"])"
   ]
  },
  {
   "cell_type": "code",
   "execution_count": null,
   "id": "524c73d1-34d2-4713-9f8b-a229a7938a13",
   "metadata": {},
   "outputs": [],
   "source": []
  }
 ],
 "metadata": {
  "kernelspec": {
   "display_name": "Python 3 (ipykernel)",
   "language": "python",
   "name": "python3"
  },
  "language_info": {
   "codemirror_mode": {
    "name": "ipython",
    "version": 3
   },
   "file_extension": ".py",
   "mimetype": "text/x-python",
   "name": "python",
   "nbconvert_exporter": "python",
   "pygments_lexer": "ipython3",
   "version": "3.12.0"
  }
 },
 "nbformat": 4,
 "nbformat_minor": 5
}
